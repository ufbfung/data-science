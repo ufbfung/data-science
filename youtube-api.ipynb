{
  "nbformat": 4,
  "nbformat_minor": 0,
  "metadata": {
    "colab": {
      "provenance": [],
      "authorship_tag": "ABX9TyOVYpR1zWaYNbt6D27FDteQ",
      "include_colab_link": true
    },
    "kernelspec": {
      "name": "python3",
      "display_name": "Python 3"
    },
    "language_info": {
      "name": "python"
    }
  },
  "cells": [
    {
      "cell_type": "markdown",
      "metadata": {
        "id": "view-in-github",
        "colab_type": "text"
      },
      "source": [
        "<a href=\"https://colab.research.google.com/github/ufbfung/data-science/blob/main/youtube-api.ipynb\" target=\"_parent\"><img src=\"https://colab.research.google.com/assets/colab-badge.svg\" alt=\"Open In Colab\"/></a>"
      ]
    },
    {
      "cell_type": "code",
      "source": [
        "# Example from chatGPT\n",
        "import requests\n",
        "\n",
        "api_key = \"YOUR_API_KEY\"\n",
        "channel_id = \"CHANNEL_ID\"\n",
        "\n",
        "url = f\"https://www.googleapis.com/youtube/v3/channels?part=snippet&id={channel_id}&key={api_key}\"\n",
        "\n",
        "response = requests.get(url)\n",
        "data = response.json()\n",
        "\n",
        "channel_data = data[\"items\"][0][\"snippet\"]\n",
        "channel_name = channel_data[\"title\"]\n",
        "channel_description = channel_data[\"description\"]\n",
        "\n",
        "print(f\"Channel name: {channel_name}\")\n",
        "print(f\"Channel description: {channel_description}\")"
      ],
      "metadata": {
        "id": "hlUrgHINt1qL"
      },
      "execution_count": null,
      "outputs": []
    },
    {
      "cell_type": "code",
      "execution_count": 18,
      "metadata": {
        "colab": {
          "base_uri": "https://localhost:8080/"
        },
        "id": "juj15gA8sTE_",
        "outputId": "741a6130-3f9c-49b3-84d4-9ad72ffcfe13"
      },
      "outputs": [
        {
          "output_type": "stream",
          "name": "stdout",
          "text": [
            "Channel name: Brian Fung\n",
            "Channel description: Hey everyone!\n",
            "\n",
            "I'm a very expressive person (especially when it's not face to face cause I'm a super nerd and an introvert) and YouTube is the perfect medium for me to do so. I hope you enjoy watching and please subscribe!\n",
            "\n",
            "Indulge in my other introverted mediums below:\n",
            "Tumblr: http://pdpsmg.tumblr.com/\n",
            "Facebook: https://www.facebook.com/pdpsmg\n",
            "Instagram: ufbfung\n",
            "Twitter: @ufbfung\n",
            "Linkedin: https://www.linkedin.com/in/bkfung\n",
            "Personal: http://www.briankfung.com\n",
            "\n",
            "Disclaimer: The views expressed on this channel are my own and do not reflect the views of my employer.\n"
          ]
        }
      ],
      "source": [
        "# Import libraries\n",
        "import requests\n",
        "\n",
        "# Build URL\n",
        "api_key = \"--"\n",
        "channel_id = \"UCvniQtnTLVv2nJQZHC7Sh6A\"\n",
        "\n",
        "url = f\"https://www.googleapis.com/youtube/v3/channels?part=snippet&id={channel_id}&key={api_key}\"\n",
        "\n",
        "# Create API call\n",
        "response = requests.get(url)\n",
        "data = response.json()\n",
        "\n",
        "# Extract data\n",
        "channel_data = data[\"items\"][0][\"snippet\"]\n",
        "channel_name = channel_data[\"title\"]\n",
        "channel_description = channel_data[\"description\"]\n",
        "\n",
        "# Print results\n",
        "print(f\"Channel name: {channel_name}\")\n",
        "print(f\"Channel description: {channel_description}\")"
      ]
    }
  ]
}
